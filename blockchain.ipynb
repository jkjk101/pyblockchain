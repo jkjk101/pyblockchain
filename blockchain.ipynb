{
  "nbformat": 4,
  "nbformat_minor": 0,
  "metadata": {
    "colab": {
      "provenance": [],
      "collapsed_sections": [
        "4a2Ss7ivGiHF"
      ],
      "toc_visible": true
    },
    "kernelspec": {
      "name": "python3",
      "display_name": "Python 3"
    },
    "language_info": {
      "name": "python"
    }
  },
  "cells": [
    {
      "cell_type": "markdown",
      "source": [
        "https://www.tutorialspoint.com/python_blockchain/python_blockchain_quick_guide.htm"
      ],
      "metadata": {
        "id": "6tqzm-XLGbtu"
      }
    },
    {
      "cell_type": "markdown",
      "source": [
        "# Import Libraries"
      ],
      "metadata": {
        "id": "4a2Ss7ivGiHF"
      }
    },
    {
      "cell_type": "code",
      "execution_count": 1,
      "metadata": {
        "id": "2VJFK5B4Zzi_"
      },
      "outputs": [],
      "source": [
        "# import libraries\n",
        "import hashlib\n",
        "import random\n",
        "import string\n",
        "import json\n",
        "import binascii\n",
        "import numpy as np\n",
        "import pandas as pd\n",
        "import pylab as pl\n",
        "import logging\n",
        "import datetime\n",
        "import collections"
      ]
    },
    {
      "cell_type": "code",
      "source": [
        "!pip install pycryptodome"
      ],
      "metadata": {
        "colab": {
          "base_uri": "https://localhost:8080/"
        },
        "id": "X3b5PrToX1cm",
        "outputId": "b1eb0566-65f0-40d8-e328-b966c79f1e82"
      },
      "execution_count": 2,
      "outputs": [
        {
          "output_type": "stream",
          "name": "stdout",
          "text": [
            "Requirement already satisfied: pycryptodome in /usr/local/lib/python3.10/dist-packages (3.20.0)\n"
          ]
        }
      ]
    },
    {
      "cell_type": "code",
      "source": [
        "# following imports are required by PKI\n",
        "import Crypto\n",
        "import Crypto.Random\n",
        "from Crypto.Hash import SHA\n",
        "from Crypto.PublicKey import RSA\n",
        "from Crypto.Signature import PKCS1_v1_5"
      ],
      "metadata": {
        "id": "dASWKPDYXnCu"
      },
      "execution_count": 3,
      "outputs": []
    },
    {
      "cell_type": "markdown",
      "source": [
        "# Function / Class Definition"
      ],
      "metadata": {
        "id": "Lpsj_8GMHXcZ"
      }
    },
    {
      "cell_type": "markdown",
      "source": [
        "## Client"
      ],
      "metadata": {
        "id": "c9Y8Pu0zGrn0"
      }
    },
    {
      "cell_type": "code",
      "source": [
        "class Client:\n",
        "  def __init__(self):\n",
        "    random = Crypto.Random.new().read\n",
        "    self._private_key = RSA.generate(1024, random)\n",
        "    self._public_key = self._private_key.publickey()\n",
        "    self._signer = PKCS1_v1_5.new(self._private_key)\n",
        "\n",
        "  @property\n",
        "  def identity(self):\n",
        "    return binascii.hexlify(self._public_key.exportKey(format='DER')).decode('ascii')"
      ],
      "metadata": {
        "id": "p3X2m1jmXpm9"
      },
      "execution_count": 4,
      "outputs": []
    },
    {
      "cell_type": "markdown",
      "source": [
        "## Transaction"
      ],
      "metadata": {
        "id": "pbJIybaIHDnT"
      }
    },
    {
      "cell_type": "code",
      "source": [
        "class Transaction:\n",
        "  def __init__(self, sender, recipient, value):\n",
        "    self.sender = sender\n",
        "    self.recipient = recipient\n",
        "    self.value = value\n",
        "    self.time = datetime.datetime.now()\n",
        "\n",
        "  def to_dict(self):\n",
        "    if self.sender == \"Genesis\":\n",
        "      identity = \"Genesis\"\n",
        "    else:\n",
        "      identity = self.sender.identity\n",
        "\n",
        "    return collections.OrderedDict({\n",
        "      'sender': identity,\n",
        "      'recipient': self.recipient,\n",
        "      'value': self.value,\n",
        "      'time' : self.time})\n",
        "\n",
        "  def sign_transaction(self):\n",
        "    private_key = self.sender._private_key\n",
        "    signer = PKCS1_v1_5.new(private_key)\n",
        "    h = SHA.new(str(self.to_dict()).encode('utf8'))\n",
        "    return binascii.hexlify(signer.sign(h)).decode('ascii')"
      ],
      "metadata": {
        "id": "Hddz3q75Y-kY"
      },
      "execution_count": 5,
      "outputs": []
    },
    {
      "cell_type": "code",
      "source": [
        "def display_transaction(transaction):\n",
        "  dict = transaction.to_dict()\n",
        "  print(\"sender: \" + dict['sender'])\n",
        "  print('-----')\n",
        "  print(\"recipient: \" + dict['recipient'])\n",
        "  print('-----')\n",
        "  print(\"value: \" + str(dict['value']))\n",
        "  print('-----')\n",
        "  print(\"time: \" + str(dict['time']))\n",
        "  print('-----')"
      ],
      "metadata": {
        "id": "KPu0OFvwZtzZ"
      },
      "execution_count": 6,
      "outputs": []
    },
    {
      "cell_type": "markdown",
      "source": [
        "## Block"
      ],
      "metadata": {
        "id": "gOjFyyq1HICS"
      }
    },
    {
      "cell_type": "code",
      "source": [
        "class Block:\n",
        "  def __init__(self):\n",
        "    self.verified_transactions = []\n",
        "    self.previous_block_hash = \"\"\n",
        "    self.Nonce = \"\""
      ],
      "metadata": {
        "id": "W9w7PvSRbdfm"
      },
      "execution_count": 7,
      "outputs": []
    },
    {
      "cell_type": "code",
      "source": [
        "def dump_blockchain(self):\n",
        "  print(\"Number of blocks in the chain: \" + str(len(self)))\n",
        "  for x in range(len(self)):\n",
        "    block_temp = self[x]\n",
        "    print(\"block # \" + str(x))\n",
        "    for transaction in block_temp.verified_transactions:\n",
        "      display_transaction(transaction)\n",
        "      print('--------------')\n",
        "    print('=====================================')"
      ],
      "metadata": {
        "id": "kI-2Lh7Lcbnq"
      },
      "execution_count": 8,
      "outputs": []
    },
    {
      "cell_type": "markdown",
      "source": [
        "## Miner"
      ],
      "metadata": {
        "id": "IVWY0zw0HLu0"
      }
    },
    {
      "cell_type": "code",
      "source": [
        "def sha256(message):\n",
        "  return hashlib.sha256(message.encode('ascii')).hexdigest()"
      ],
      "metadata": {
        "id": "qqgHh6sHdFL2"
      },
      "execution_count": 9,
      "outputs": []
    },
    {
      "cell_type": "code",
      "source": [
        "def mine(message, difficulty=1):\n",
        "  assert difficulty >= 1\n",
        "  prefix = '1' * difficulty\n",
        "  for i in range(1000):\n",
        "    digest = sha256(str(hash(message)) + str(i))\n",
        "    if digest.startswith(prefix):\n",
        "      print (\"after \" + str(i) + \" iterations found nonce: \"+ digest)\n",
        "      return digest"
      ],
      "metadata": {
        "id": "S7NocbN2dFOI"
      },
      "execution_count": 10,
      "outputs": []
    },
    {
      "cell_type": "markdown",
      "source": [
        "# Sample Run"
      ],
      "metadata": {
        "id": "Po9VBB-6HlXK"
      }
    },
    {
      "cell_type": "code",
      "source": [
        "sample_chain = []"
      ],
      "metadata": {
        "id": "tCriBsLjcblU"
      },
      "execution_count": 11,
      "outputs": []
    },
    {
      "cell_type": "code",
      "source": [
        "clientA = Client()\n",
        "clientB = Client()\n",
        "clientC = Client()\n",
        "clientD = Client()"
      ],
      "metadata": {
        "id": "ijI7qxH9Zt31"
      },
      "execution_count": 12,
      "outputs": []
    },
    {
      "cell_type": "code",
      "source": [
        "t0 = Transaction(\"Genesis\", clientA.identity, \"GENESIS\")\n",
        "\n",
        "block0 = Block()\n",
        "block0.previous_block_hash = None\n",
        "block0.verified_transactions.append(t0)\n",
        "\n",
        "digest = hash(block0)\n",
        "last_block_hash = digest\n",
        "\n",
        "sample_chain.append(block0)"
      ],
      "metadata": {
        "id": "fZ5ugC-zbdmD"
      },
      "execution_count": 13,
      "outputs": []
    },
    {
      "cell_type": "code",
      "source": [
        "transactions = []\n",
        "\n",
        "t1 = Transaction(clientA, clientB.identity, \"Hello world!\")\n",
        "t1.sign_transaction()\n",
        "transactions.append(t1)\n",
        "\n",
        "t2 = Transaction(clientB, clientC.identity, \"Testing123\")\n",
        "t2.sign_transaction()\n",
        "transactions.append(t2)\n",
        "\n",
        "t3 = Transaction(clientC, clientD.identity, \"QWERTY\")\n",
        "t3.sign_transaction()\n",
        "transactions.append(t3)"
      ],
      "metadata": {
        "id": "5nO1RHs9Y-3I"
      },
      "execution_count": 14,
      "outputs": []
    },
    {
      "cell_type": "code",
      "source": [
        "last_transaction_index = 0\n",
        "\n",
        "block = Block()\n",
        "for i in range(3):\n",
        "  temp_transaction = transactions[last_transaction_index]\n",
        "  # validate transaction\n",
        "  # if valid\n",
        "  block.verified_transactions.append(temp_transaction)\n",
        "  last_transaction_index += 1\n",
        "\n",
        "block.previous_block_hash = last_block_hash\n",
        "block.Nonce = mine(block, 2)\n",
        "digest = hash(block)\n",
        "sample_chain.append(block)\n",
        "last_block_hash = digest"
      ],
      "metadata": {
        "colab": {
          "base_uri": "https://localhost:8080/"
        },
        "id": "T84YsMYLA2GU",
        "outputId": "f8b4ed04-dfab-4514-a8eb-cc9ffebb2edf"
      },
      "execution_count": 15,
      "outputs": [
        {
          "output_type": "stream",
          "name": "stdout",
          "text": [
            "after 74 iterations found nonce: 11f1bd0d400e1f3e15c28678125505a10ac2a2887612199b4542e90d11279081\n"
          ]
        }
      ]
    },
    {
      "cell_type": "code",
      "source": [
        "dump_blockchain(sample_chain)"
      ],
      "metadata": {
        "id": "cuVJK14fb0xX",
        "colab": {
          "base_uri": "https://localhost:8080/"
        },
        "outputId": "1f1ba5a4-bea6-4560-b5c6-238090f31577"
      },
      "execution_count": 16,
      "outputs": [
        {
          "output_type": "stream",
          "name": "stdout",
          "text": [
            "Number of blocks in the chain: 2\n",
            "block # 0\n",
            "sender: Genesis\n",
            "-----\n",
            "recipient: 30819f300d06092a864886f70d010101050003818d0030818902818100ba2ca0d2e55da37535496ab3ba8050e5040385a4e773b6ec51f3f7ef507db39783a69e45c8a24ef2e612e4e5c992dfebf013490d79578cd4ec731e16cc60231501253c138a0a762c67c6dd5196e27dc70d18226b89d407cadd199e2362defc349ecdd95bc6132dd9ca022369eaea0fe3911a3727dea83c215804e51da65dae410203010001\n",
            "-----\n",
            "value: GENESIS\n",
            "-----\n",
            "time: 2024-02-15 09:44:41.419833\n",
            "-----\n",
            "--------------\n",
            "=====================================\n",
            "block # 1\n",
            "sender: 30819f300d06092a864886f70d010101050003818d0030818902818100ba2ca0d2e55da37535496ab3ba8050e5040385a4e773b6ec51f3f7ef507db39783a69e45c8a24ef2e612e4e5c992dfebf013490d79578cd4ec731e16cc60231501253c138a0a762c67c6dd5196e27dc70d18226b89d407cadd199e2362defc349ecdd95bc6132dd9ca022369eaea0fe3911a3727dea83c215804e51da65dae410203010001\n",
            "-----\n",
            "recipient: 30819f300d06092a864886f70d010101050003818d0030818902818100d9c28c710023dc06d0861764011b4b2e8dbff935ab165ccc392cf7ad88aa0a37782cd0c7efd94f20adf50190dedf6d9948725d6f206a67e846d06e595b6216d4712d56a340753efd615fa4fb7e0304b7f9f19b232b12f9245f437993620ba84a1a62e04f4e3837ba913dcc4db7e1b55cabb258ba32762f4ae201846e048a7df50203010001\n",
            "-----\n",
            "value: Hello world!\n",
            "-----\n",
            "time: 2024-02-15 09:44:41.440960\n",
            "-----\n",
            "--------------\n",
            "sender: 30819f300d06092a864886f70d010101050003818d0030818902818100d9c28c710023dc06d0861764011b4b2e8dbff935ab165ccc392cf7ad88aa0a37782cd0c7efd94f20adf50190dedf6d9948725d6f206a67e846d06e595b6216d4712d56a340753efd615fa4fb7e0304b7f9f19b232b12f9245f437993620ba84a1a62e04f4e3837ba913dcc4db7e1b55cabb258ba32762f4ae201846e048a7df50203010001\n",
            "-----\n",
            "recipient: 30819f300d06092a864886f70d010101050003818d00308189028181009c4d5ae58fef5373d61e5237a3b7348113d34807fab37cfa3453ec93dc9317089eb8f8d23c32b0f65742676702414350eee3fe14e30d5961922b3a85b6dde472a2b06be17ad61c7a517e94eb60199d826ef9e0aee748eef93ed25e98d48ddb15b226c05086674566826b2afb9402e4f5736f96ce2f3b7b27b7502cf1914cbe450203010001\n",
            "-----\n",
            "value: Testing123\n",
            "-----\n",
            "time: 2024-02-15 09:44:41.454331\n",
            "-----\n",
            "--------------\n",
            "sender: 30819f300d06092a864886f70d010101050003818d00308189028181009c4d5ae58fef5373d61e5237a3b7348113d34807fab37cfa3453ec93dc9317089eb8f8d23c32b0f65742676702414350eee3fe14e30d5961922b3a85b6dde472a2b06be17ad61c7a517e94eb60199d826ef9e0aee748eef93ed25e98d48ddb15b226c05086674566826b2afb9402e4f5736f96ce2f3b7b27b7502cf1914cbe450203010001\n",
            "-----\n",
            "recipient: 30819f300d06092a864886f70d010101050003818d0030818902818100a7f5f79c8c1184493bd63b7920cde72d1686d7017a480fa13099f961f20a42f1047c1547cd037cdd15144a1422e0a4dca120155849a9f808f48a6522613921d18835722ba1a3181e375e622ef926f81af49a0e5b5117320d59b8b4105f6eb3e9086db2523e16ae879dee65fc6afe386ba7f199ad5f7429294c6ff58fa62905370203010001\n",
            "-----\n",
            "value: QWERTY\n",
            "-----\n",
            "time: 2024-02-15 09:44:41.458706\n",
            "-----\n",
            "--------------\n",
            "=====================================\n"
          ]
        }
      ]
    }
  ]
}